{
 "cells": [
  {
   "cell_type": "code",
   "execution_count": 2,
   "metadata": {},
   "outputs": [],
   "source": [
    "import pandas as pd\n",
    "import numpy as np"
   ]
  },
  {
   "cell_type": "code",
   "execution_count": 3,
   "metadata": {},
   "outputs": [],
   "source": [
    "df = pd.read_csv('UpdatedResumeDataSet.csv')\n",
    "data = pd.read_csv('diabetes.csv')"
   ]
  },
  {
   "cell_type": "code",
   "execution_count": 14,
   "metadata": {},
   "outputs": [
    {
     "data": {
      "text/plain": [
       "array(['Data Science', 'HR', 'Advocate', 'Arts', 'Web Designing',\n",
       "       'Mechanical Engineer', 'Sales', 'Health and fitness',\n",
       "       'Civil Engineer', 'Java Developer', 'Business Analyst',\n",
       "       'SAP Developer', 'Automation Testing', 'Electrical Engineering',\n",
       "       'Operations Manager', 'Python Developer', 'DevOps Engineer',\n",
       "       'Network Security Engineer', 'PMO', 'Database', 'Hadoop',\n",
       "       'ETL Developer', 'DotNet Developer', 'Blockchain', 'Testing'],\n",
       "      dtype=object)"
      ]
     },
     "execution_count": 14,
     "metadata": {},
     "output_type": "execute_result"
    }
   ],
   "source": [
    "df.Category.unique()"
   ]
  },
  {
   "cell_type": "code",
   "execution_count": 11,
   "metadata": {},
   "outputs": [
    {
     "data": {
      "text/html": [
       "<div>\n",
       "<style scoped>\n",
       "    .dataframe tbody tr th:only-of-type {\n",
       "        vertical-align: middle;\n",
       "    }\n",
       "\n",
       "    .dataframe tbody tr th {\n",
       "        vertical-align: top;\n",
       "    }\n",
       "\n",
       "    .dataframe thead th {\n",
       "        text-align: right;\n",
       "    }\n",
       "</style>\n",
       "<table border=\"1\" class=\"dataframe\">\n",
       "  <thead>\n",
       "    <tr style=\"text-align: right;\">\n",
       "      <th></th>\n",
       "      <th>Category</th>\n",
       "      <th>Resume</th>\n",
       "    </tr>\n",
       "  </thead>\n",
       "  <tbody>\n",
       "    <tr>\n",
       "      <th>0</th>\n",
       "      <td>Data Science</td>\n",
       "      <td>Skills * Programming Languages: Python (pandas...</td>\n",
       "    </tr>\n",
       "    <tr>\n",
       "      <th>1</th>\n",
       "      <td>Data Science</td>\n",
       "      <td>Education Details \\r\\nMay 2013 to May 2017 B.E...</td>\n",
       "    </tr>\n",
       "    <tr>\n",
       "      <th>2</th>\n",
       "      <td>Data Science</td>\n",
       "      <td>Areas of Interest Deep Learning, Control Syste...</td>\n",
       "    </tr>\n",
       "    <tr>\n",
       "      <th>3</th>\n",
       "      <td>Data Science</td>\n",
       "      <td>Skills â¢ R â¢ Python â¢ SAP HANA â¢ Table...</td>\n",
       "    </tr>\n",
       "    <tr>\n",
       "      <th>4</th>\n",
       "      <td>Data Science</td>\n",
       "      <td>Education Details \\r\\n MCA   YMCAUST,  Faridab...</td>\n",
       "    </tr>\n",
       "    <tr>\n",
       "      <th>...</th>\n",
       "      <td>...</td>\n",
       "      <td>...</td>\n",
       "    </tr>\n",
       "    <tr>\n",
       "      <th>957</th>\n",
       "      <td>Testing</td>\n",
       "      <td>Computer Skills: â¢ Proficient in MS office (...</td>\n",
       "    </tr>\n",
       "    <tr>\n",
       "      <th>958</th>\n",
       "      <td>Testing</td>\n",
       "      <td>â Willingness to accept the challenges. â ...</td>\n",
       "    </tr>\n",
       "    <tr>\n",
       "      <th>959</th>\n",
       "      <td>Testing</td>\n",
       "      <td>PERSONAL SKILLS â¢ Quick learner, â¢ Eagerne...</td>\n",
       "    </tr>\n",
       "    <tr>\n",
       "      <th>960</th>\n",
       "      <td>Testing</td>\n",
       "      <td>COMPUTER SKILLS &amp; SOFTWARE KNOWLEDGE MS-Power ...</td>\n",
       "    </tr>\n",
       "    <tr>\n",
       "      <th>961</th>\n",
       "      <td>Testing</td>\n",
       "      <td>Skill Set OS Windows XP/7/8/8.1/10 Database MY...</td>\n",
       "    </tr>\n",
       "  </tbody>\n",
       "</table>\n",
       "<p>962 rows × 2 columns</p>\n",
       "</div>"
      ],
      "text/plain": [
       "         Category                                             Resume\n",
       "0    Data Science  Skills * Programming Languages: Python (pandas...\n",
       "1    Data Science  Education Details \\r\\nMay 2013 to May 2017 B.E...\n",
       "2    Data Science  Areas of Interest Deep Learning, Control Syste...\n",
       "3    Data Science  Skills â¢ R â¢ Python â¢ SAP HANA â¢ Table...\n",
       "4    Data Science  Education Details \\r\\n MCA   YMCAUST,  Faridab...\n",
       "..            ...                                                ...\n",
       "957       Testing  Computer Skills: â¢ Proficient in MS office (...\n",
       "958       Testing  â Willingness to accept the challenges. â ...\n",
       "959       Testing  PERSONAL SKILLS â¢ Quick learner, â¢ Eagerne...\n",
       "960       Testing  COMPUTER SKILLS & SOFTWARE KNOWLEDGE MS-Power ...\n",
       "961       Testing  Skill Set OS Windows XP/7/8/8.1/10 Database MY...\n",
       "\n",
       "[962 rows x 2 columns]"
      ]
     },
     "execution_count": 11,
     "metadata": {},
     "output_type": "execute_result"
    }
   ],
   "source": [
    "df"
   ]
  },
  {
   "cell_type": "code",
   "execution_count": 13,
   "metadata": {},
   "outputs": [
    {
     "data": {
      "text/plain": [
       "\"Skills â\\x80¢ R â\\x80¢ Python â\\x80¢ SAP HANA â\\x80¢ Tableau â\\x80¢ SAP HANA SQL â\\x80¢ SAP HANA PAL â\\x80¢ MS SQL â\\x80¢ SAP Lumira â\\x80¢ C# â\\x80¢ Linear Programming â\\x80¢ Data Modelling â\\x80¢ Advance Analytics â\\x80¢ SCM Analytics â\\x80¢ Retail Analytics â\\x80¢Social Media Analytics â\\x80¢ NLP Education Details \\r\\nJanuary 2017 to January 2018 PGDM Business Analytics  Great Lakes Institute of Management & Illinois Institute of Technology\\r\\nJanuary 2013 Bachelor of Engineering Electronics and Communication Bengaluru, Karnataka New Horizon College of Engineering, Bangalore Visvesvaraya Technological University\\r\\nData Science Consultant \\r\\n\\r\\nConsultant - Deloitte USI\\r\\nSkill Details \\r\\nLINEAR PROGRAMMING- Exprience - 6 months\\r\\nRETAIL- Exprience - 6 months\\r\\nRETAIL MARKETING- Exprience - 6 months\\r\\nSCM- Exprience - 6 months\\r\\nSQL- Exprience - Less than 1 year months\\r\\nDeep Learning- Exprience - Less than 1 year months\\r\\nMachine learning- Exprience - Less than 1 year months\\r\\nPython- Exprience - Less than 1 year months\\r\\nR- Exprience - Less than 1 year monthsCompany Details \\r\\ncompany - Deloitte USI\\r\\ndescription - The project involved analysing historic deals and coming with insights to optimize future deals.\\r\\nRole: Was given raw data, carried out end to end analysis and presented insights to client.\\r\\nKey Responsibilities:\\r\\nâ\\x80¢ Extract data from client systems across geographies.\\r\\nâ\\x80¢ Understand and build reports in tableau. Infer meaningful insights to optimize prices and find out process blockades.\\r\\nTechnical Environment: R, Tableau.\\r\\n\\r\\nIndustry: Cross Industry\\r\\nService Area: Cross Industry - Products\\r\\nProject Name: Handwriting recognition\\r\\nConsultant: 3 months.\\r\\nThe project involved taking handwritten images and converting them to digital text images by object detection and sentence creation.\\r\\nRole: I was developing sentence correction functionality.\\r\\nKey Responsibilities:\\r\\nâ\\x80¢ Gather data large enough to capture all English words\\r\\nâ\\x80¢ Train LSTM models on words.\\r\\nTechnical Environment: Python.\\r\\n\\r\\nIndustry: Finance\\r\\nService Area: Financial Services - BI development Project Name: SWIFT\\r\\nConsultant: 8 months.\\r\\nThe project was to develop an analytics infrastructure on top of SAP S/4, it would user to view\\r\\nfinancial reports to respective departments. Reporting also included forecasting expenses.\\r\\nRole: I was leading the offshore team.\\r\\nKey Responsibilities:\\r\\nâ\\x80¢ Design & Develop data models for reporting.\\r\\nâ\\x80¢ Develop ETL for data flow\\r\\nâ\\x80¢ Validate various reports.\\r\\nTechnical Environment: SAP HANA, Tableau, SAP AO.\\r\\n\\r\\nIndustry: Healthcare Analytics\\r\\nService Area: Life Sciences - Product development Project Name: Clinical Healthcare System\\r\\nConsultant: 2 months.\\r\\nThe project was to develop an analytics infrastructure on top of Argus, it would allow users to query faster and provide advance analytics capabilities.\\r\\nRole: I was involved from design to deploy phase, performed a lot of data restructuring and built\\r\\nmodels for insights.\\r\\nKey Responsibilities:\\r\\nâ\\x80¢ Design & Develop data models for reporting.\\r\\nâ\\x80¢ Develop and deploy analytical models.\\r\\nâ\\x80¢ Validate various reports.\\r\\nTechnical Environment: Data Modelling, SAP HANA, Tableau, NLP.\\r\\n\\r\\nIndustry: FMCG\\r\\nService Area: Trade & Promotion\\r\\nProject Name: Consumption Based Planning for Flowers Foods Consultant; 8 months.\\r\\nThe project involved setting up of CRM and CBP modules.\\r\\nRole: I was involved in key data decomposition activities and setting up the base for future year\\r\\nforecast. Over the course of the project I developed various models and carried out key\\r\\nperformance improvements.\\r\\nKey Responsibilities:\\r\\nâ\\x80¢ Design & Develop HANA models for decomposition.\\r\\nâ\\x80¢ Develop data flow for forecast.\\r\\nâ\\x80¢ Developed various views for reporting of Customer/Sales/Funds.\\r\\nâ\\x80¢ Validate various reports in BOBJ.\\r\\nTechnical Environment: Data Modelling, SAP HANA, BOBJ, Time Series Forecasting.\\r\\n\\r\\nInternal Initiative Industry: FMCG\\r\\nCustomer Segmentation and RFM analysis Consultant; 3 months.\\r\\nThe initiative involved setting up of HANA-Python interface and advance analytics on Python. Over the course I had successfully segmented data into five core segments using K-means and carried out RFM analysis in Python. Also developed algorithm to categorize any new customer under the defined buckets.\\r\\nTechnical Environment: Anaconda3, Python3.6, HANA SPS12\\r\\n\\r\\nIndustry: Telecom Invoice state detection Consultant; 1 months.\\r\\nThe initiative was to reduce the manual effort in verifying closed and open invoices manually, it\\r\\ninvolved development to a decision tree to classify open/closed invoices. This enabled effort\\r\\nreduction by 60%.\\r\\nTechnical Environment: R, SAP PAL, SAP HANA SPS12\\r\\n\\r\\nAccenture Experience\\r\\nIndustry: Analytics - Cross Industry\\r\\nIn Process Analytics for SAP Senior Developer; 19 months.\\r\\nAccenture Solutions Pvt. Ltd., India\\r\\nThe project involved development of SAP analytics tool - In Process Analytics (IPA) . My role was to develop database objects and data models to provide operational insights to clients.\\r\\nRole: I have developed various Finance related KPIs and spearheaded various deployments.\\r\\nIntroduced SAP Predictive analytics to reduce development time and reuse functionalities for KPIs and prepared production planning reports.\\r\\nKey Responsibilities:\\r\\nâ\\x80¢ Involved in information gather phase.\\r\\nâ\\x80¢ Designed and implemented SAP HANA data modelling using Attribute View, Analytic View, and\\r\\nCalculation View.\\r\\nâ\\x80¢ Developed various KPI's individually using complex SQL scripts in Calculation views.\\r\\nâ\\x80¢ Created procedures in HANA Database.\\r\\nâ\\x80¢ Took ownership and developed Dashboard functionality.\\r\\nâ\\x80¢ Involved in building data processing algorithms to be executed in R server for cluster analysis.\\r\\nTechnical Environment: R, SAP HANA, T-SQL.\\r\\nIndustry: Cross Industry\\r\\nAccenture Testing Accelerator for SAP Database Developer; 21 months.\\r\\nAccenture Solutions Pvt. Ltd., India\\r\\nRole: I have taken care of all development activities for the ATAS tool and have also completed\\r\\nvarious deployments of the product.\\r\\nApart from these activities I was also actively involved in maintenance of the database servers\\r\\n(Production & Quality)\\r\\nKey Responsibilities:\\r\\nâ\\x80¢ Analyzing business requirements, understanding the scope, getting requirements clarified\\r\\ninteracting with business and further transform all requirements to generate attribute\\r\\nmapping documents and reviewing mapping specification documentation\\r\\nâ\\x80¢ Create / Update database objects like tables, views, stored procedures, function, and packages\\r\\nâ\\x80¢ Monitored SQL Server Error Logs and Application Logs through SQL Server Agent\\r\\nâ\\x80¢ Prepared Data Flow Diagrams, Entity Relationship Diagrams using UML\\r\\nâ\\x80¢ Responsible for Designing, developing and Normalization of database tables\\r\\nâ\\x80¢ Experience in performance tuning using SQL profiler.\\r\\nâ\\x80¢ Involved in QA, UAT, knowledge transfer and support activities\\r\\nTechnical Environment: SQL Server 2008/2014, Visual Studio 2010, Windows Server, Performance\\r\\nMonitor, SQL Server Profiler, C#, PL-SQL, T-SQL.\""
      ]
     },
     "execution_count": 13,
     "metadata": {},
     "output_type": "execute_result"
    }
   ],
   "source": [
    "df.Resume.iloc[3]"
   ]
  },
  {
   "cell_type": "code",
   "execution_count": 6,
   "metadata": {},
   "outputs": [
    {
     "data": {
      "text/plain": [
       "array([ 6,  1,  8,  0,  5,  3, 10,  2,  4,  7,  9, 11, 13, 15, 17, 12, 14])"
      ]
     },
     "execution_count": 6,
     "metadata": {},
     "output_type": "execute_result"
    }
   ],
   "source": [
    "data['Pregnancies'].unique()"
   ]
  },
  {
   "cell_type": "code",
   "execution_count": null,
   "metadata": {},
   "outputs": [],
   "source": []
  }
 ],
 "metadata": {
  "kernelspec": {
   "display_name": "Python 3",
   "language": "python",
   "name": "python3"
  },
  "language_info": {
   "codemirror_mode": {
    "name": "ipython",
    "version": 3
   },
   "file_extension": ".py",
   "mimetype": "text/x-python",
   "name": "python",
   "nbconvert_exporter": "python",
   "pygments_lexer": "ipython3",
   "version": "3.7.6"
  }
 },
 "nbformat": 4,
 "nbformat_minor": 4
}
